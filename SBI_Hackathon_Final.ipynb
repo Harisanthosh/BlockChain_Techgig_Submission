{
  "nbformat": 4,
  "nbformat_minor": 0,
  "metadata": {
    "colab": {
      "name": "SBI_Hackathon.ipynb",
      "version": "0.3.2",
      "provenance": [],
      "collapsed_sections": [],
      "include_colab_link": true
    },
    "kernelspec": {
      "name": "python3",
      "display_name": "Python 3"
    }
  },
  "cells": [
    {
      "cell_type": "markdown",
      "metadata": {
        "id": "view-in-github",
        "colab_type": "text"
      },
      "source": [
        "<a href=\"https://colab.research.google.com/github/Harisanthosh/BlockChain_Techgig_Submission/blob/master/SBI_Hackathon_Final.ipynb\" target=\"_parent\"><img src=\"https://colab.research.google.com/assets/colab-badge.svg\" alt=\"Open In Colab\"/></a>"
      ]
    },
    {
      "cell_type": "code",
      "metadata": {
        "id": "5iOHIYuS36G5",
        "colab_type": "code",
        "outputId": "8c68ec45-1977-4080-be7c-6c6bf9266f0e",
        "colab": {
          "base_uri": "https://localhost:8080/",
          "height": 34
        }
      },
      "source": [
        "import numpy as np"
      ],
      "execution_count": 0,
      "outputs": [
        {
          "output_type": "stream",
          "text": [
            "64\n"
          ],
          "name": "stdout"
        }
      ]
    },
    {
      "cell_type": "markdown",
      "metadata": {
        "id": "fU8U40e-6bW8",
        "colab_type": "text"
      },
      "source": [
        "Installing dependencies to access Python library"
      ]
    },
    {
      "cell_type": "code",
      "metadata": {
        "id": "Y6jeN08E5inn",
        "colab_type": "code",
        "outputId": "4ac6f9e5-c31a-4907-d6a9-f464f4d8e6b3",
        "colab": {
          "base_uri": "https://localhost:8080/",
          "height": 584
        }
      },
      "source": [
        "!pip install tweepy\n",
        "!pip install nsetools"
      ],
      "execution_count": 0,
      "outputs": [
        {
          "output_type": "stream",
          "text": [
            "Requirement already satisfied: tweepy in /usr/local/lib/python3.6/dist-packages (3.6.0)\n",
            "Requirement already satisfied: requests>=2.11.1 in /usr/local/lib/python3.6/dist-packages (from tweepy) (2.21.0)\n",
            "Requirement already satisfied: requests-oauthlib>=0.7.0 in /usr/local/lib/python3.6/dist-packages (from tweepy) (1.2.0)\n",
            "Requirement already satisfied: six>=1.10.0 in /usr/local/lib/python3.6/dist-packages (from tweepy) (1.12.0)\n",
            "Requirement already satisfied: PySocks>=1.5.7 in /usr/local/lib/python3.6/dist-packages (from tweepy) (1.7.0)\n",
            "Requirement already satisfied: certifi>=2017.4.17 in /usr/local/lib/python3.6/dist-packages (from requests>=2.11.1->tweepy) (2019.3.9)\n",
            "Requirement already satisfied: urllib3<1.25,>=1.21.1 in /usr/local/lib/python3.6/dist-packages (from requests>=2.11.1->tweepy) (1.24.3)\n",
            "Requirement already satisfied: idna<2.9,>=2.5 in /usr/local/lib/python3.6/dist-packages (from requests>=2.11.1->tweepy) (2.8)\n",
            "Requirement already satisfied: chardet<3.1.0,>=3.0.2 in /usr/local/lib/python3.6/dist-packages (from requests>=2.11.1->tweepy) (3.0.4)\n",
            "Requirement already satisfied: oauthlib>=3.0.0 in /usr/local/lib/python3.6/dist-packages (from requests-oauthlib>=0.7.0->tweepy) (3.0.1)\n",
            "Collecting nsetools\n",
            "  Downloading https://files.pythonhosted.org/packages/d2/37/1a4443208b73484e35ddaf952678c211decffe211ef8f428b2b496fef52e/nsetools-1.0.10.tar.gz\n",
            "Requirement already satisfied: six in /usr/local/lib/python3.6/dist-packages (from nsetools) (1.12.0)\n",
            "Collecting dateutils (from nsetools)\n",
            "  Downloading https://files.pythonhosted.org/packages/5b/11/246237ce2a1dd87ffebef0e430033f877b31dd208b281914d4fd3c531ee7/dateutils-0.6.6.tar.gz\n",
            "Collecting argparse (from dateutils->nsetools)\n",
            "  Downloading https://files.pythonhosted.org/packages/f2/94/3af39d34be01a24a6e65433d19e107099374224905f1e0cc6bbe1fd22a2f/argparse-1.4.0-py2.py3-none-any.whl\n",
            "Requirement already satisfied: python-dateutil in /usr/local/lib/python3.6/dist-packages (from dateutils->nsetools) (2.5.3)\n",
            "Requirement already satisfied: pytz in /usr/local/lib/python3.6/dist-packages (from dateutils->nsetools) (2018.9)\n",
            "Building wheels for collected packages: nsetools, dateutils\n",
            "  Building wheel for nsetools (setup.py) ... \u001b[?25l\u001b[?25hdone\n",
            "  Stored in directory: /root/.cache/pip/wheels/1d/0e/fa/5411606dd2896153f6a25c92557e0669fcb461d350e2c083ec\n",
            "  Building wheel for dateutils (setup.py) ... \u001b[?25l\u001b[?25hdone\n",
            "  Stored in directory: /root/.cache/pip/wheels/59/7f/14/021981e24cc37ca796f08be16f554c0de9b4922a1c41a2ba05\n",
            "Successfully built nsetools dateutils\n",
            "Installing collected packages: argparse, dateutils, nsetools\n",
            "Successfully installed argparse-1.4.0 dateutils-0.6.6 nsetools-1.0.10\n"
          ],
          "name": "stdout"
        },
        {
          "output_type": "display_data",
          "data": {
            "application/vnd.colab-display-data+json": {
              "pip_warning": {
                "packages": [
                  "argparse"
                ]
              }
            }
          },
          "metadata": {
            "tags": []
          }
        }
      ]
    },
    {
      "cell_type": "code",
      "metadata": {
        "id": "GAycUghQ6kJ4",
        "colab_type": "code",
        "outputId": "4b2f3f1a-3c62-46c0-faa8-3f053b78ca49",
        "colab": {
          "base_uri": "https://localhost:8080/",
          "height": 123
        }
      },
      "source": [
        "!pip install textblob\n",
        "!pip install Tkinter"
      ],
      "execution_count": 0,
      "outputs": [
        {
          "output_type": "stream",
          "text": [
            "Requirement already satisfied: textblob in /usr/local/lib/python3.6/dist-packages (0.15.2)\n",
            "Requirement already satisfied: nltk>=3.1 in /usr/local/lib/python3.6/dist-packages (from textblob) (3.2.5)\n",
            "Requirement already satisfied: six in /usr/local/lib/python3.6/dist-packages (from nltk>=3.1->textblob) (1.11.0)\n",
            "Collecting Tkinter\n",
            "\u001b[31m  Could not find a version that satisfies the requirement Tkinter (from versions: )\u001b[0m\n",
            "\u001b[31mNo matching distribution found for Tkinter\u001b[0m\n"
          ],
          "name": "stdout"
        }
      ]
    },
    {
      "cell_type": "markdown",
      "metadata": {
        "id": "-1EH9zhRA6NH",
        "colab_type": "text"
      },
      "source": [
        "Validating the twitter credentials"
      ]
    },
    {
      "cell_type": "code",
      "metadata": {
        "id": "rT-Zgs__60hg",
        "colab_type": "code",
        "outputId": "2a2228df-1224-4849-fbb7-80b221b3a0ee",
        "colab": {
          "base_uri": "https://localhost:8080/",
          "height": 514
        }
      },
      "source": [
        "import tweepy\n",
        "from time import sleep\n",
        "from datetime import datetime\n",
        "from textblob import TextBlob #For Sentiment Analysis\n",
        "import matplotlib.pyplot as plt #For Graphing the Data\n",
        "\n",
        "consumer_key = 'q1KmI6l5AWlLB13iBOguFKgLj'\n",
        "consumer_secret = 'Ux2Ya46SjBxRwLKxu2haF6KDSZAt1EdF8AMHe6vPYE2GWWz9Mw'\n",
        "access_token = '149092132-sQqz0y4xCzYjnZGnhsFSL2VguynIZ7FStPh1BmDB'\n",
        "access_token_secret = 'oSNJnMhC2DGGX4DWpQRkDagrvl9i3j35U2mkfCQJAu3nA'\n",
        "auth = tweepy.OAuthHandler(consumer_key, consumer_secret)\n",
        "auth.set_access_token(access_token, access_token_secret)\n",
        "api = tweepy.API(auth)\n",
        "\n",
        "public_tweets = api.home_timeline()\n",
        "for tweet in public_tweets:\n",
        "    print(tweet.text)\n",
        "    \n",
        "\n",
        "#Searching for sbi\n"
      ],
      "execution_count": 2,
      "outputs": [
        {
          "output_type": "stream",
          "text": [
            "Deep learning has a terrible carbon footprint. https://t.co/2yaIH9jSWF\n",
            "Bitcoin mining produces as much carbon dioxide as Kansas City. https://t.co/QcH8cIB8jd\n",
            "'I wish to God these calculations had been executed by steam' We feel you, Charles Babbage FRS and we’re grateful t… https://t.co/C7eS7pTrpz\n",
            "RT @Jopenshove: Day 60 #100DaysOfMLCode Finished style transfer of #ElonMusk with the 350 year old raging storm of Jupiter. Original pics i…\n",
            "RT @VDVmagazin: #Frühstück u. letzte Vorbesprechung vor dem #VDVBundeskongress.\n",
            "#70JahreVDV https://t.co/03wRTdWhz1\n",
            "Isaac Asimov mulled the best ways to unleash creativity in this 1959 essay. https://t.co/5M5lRhfOsC\n",
            "RT @FrankRHutter: Looking forward to a great lineup of keynote speakers at our AutoML workshop at ICML tomorrow: @JeffDean, @math_rachel, @…\n",
            "Frankly, the process of machine learning is quite basic. But it pretty much runs the world. https://t.co/SekT2fQi4m\n",
            "RT @jcvasquezc1: Very explainable video #deeplearning https://t.co/XS6un2MDLq\n",
            "Looks like someone wasn't in Mountain View today, due to a Pryor engagement.\n",
            "\n",
            "Seriously, though, I love the artwork… https://t.co/0hGu98Xc2q\n",
            "Artificial intelligence doesn’t run on magic pixie dust. It runs on invisible laborers—many with master's degrees—w… https://t.co/UDV7uyrJFw\n",
            "RT @lahiru_tjay: In need of a mentor to guide me on Natural Language Processing. Moving forward with it. #100DaysOfCode #100DaysOfMLCode #D…\n",
            "Researchers have made a simple but dramatic discovery: We've been training neural networks all wrong. https://t.co/UFzMSJhvoV\n",
            "Some failure cases look interesting. A WANN evolved to walk ahead sometimes perform non-trivial actions like balanc… https://t.co/gtWaCfKDBa\n",
            "RT @njoku_judith: Spent day 20 and 21 of python with machine learning study, researching. Studied regression, simple linear , currently wor…\n",
            "As the bookies became aware of this success, they prevented the researchers from betting further. https://t.co/8fQs8d2mpx\n",
            "RT @VDVmagazin: Guten Morgen vom #VDVBundeskongress in #Essen Wir wünschen euch einen wunderschönen Tag.\n",
            "#70JahreVDV https://t.co/tvTPRiJVv3\n",
            "RT @shin_codemania: 今日も学んでいきます。\n",
            "\n",
            "それと同時並行でブログも開設しました。\n",
            "しばらくは同時並行出来る様にしていこう\n",
            "\n",
            "#駆け出しエンジニアと繋がりたい #100DaysOfCode #100DaysOfMLCode #programmer になりた…\n",
            "Just about every artificial intelligence advance you’ve heard of depends on a breakthrough that’s three decades old… https://t.co/rKP5BqEqVr\n"
          ],
          "name": "stdout"
        }
      ]
    },
    {
      "cell_type": "markdown",
      "metadata": {
        "id": "gBKcXbZMKzCT",
        "colab_type": "text"
      },
      "source": [
        "Create a Stream Listener class and pass the company's name to access\n",
        "and retrieve the tweet"
      ]
    },
    {
      "cell_type": "code",
      "metadata": {
        "id": "LZ4TyW-hA92h",
        "colab_type": "code",
        "colab": {}
      },
      "source": [
        "class MyStreamListener(tweepy.StreamListener):\n",
        "\n",
        "    def on_status(self, status):\n",
        "        print(status.text)\n",
        "        \n",
        "    def on_error(self, status_code):\n",
        "        if status_code == 420:\n",
        "            #returning False in on_data disconnects the stream\n",
        "            return False\n",
        "        \n",
        "myStreamListener = MyStreamListener()\n",
        "myStream = tweepy.Stream(auth = api.auth, listener=myStreamListener)\n",
        "myStream.filter(track=['sbi'], async=True)                        \n",
        "                      "
      ],
      "execution_count": 0,
      "outputs": []
    },
    {
      "cell_type": "code",
      "metadata": {
        "colab_type": "code",
        "outputId": "2f787650-3f7c-44dd-920e-eb11979cdbe7",
        "id": "Tf2uTIlAPTt6",
        "colab": {
          "base_uri": "https://localhost:8080/",
          "height": 161
        }
      },
      "source": [
        "import re   \n",
        "def clean_tweet(tweet):\n",
        "  #Removes the @ and RT other special characters from the tweets\n",
        "  return ' '.join(re.sub(\"(@[A-Za-z0-9]+)|([^0-9A-Za-z \\t])|(\\w+:\\/\\/\\S+)|(^RT)\", \" \", tweet).split())\n",
        "  \n",
        "\n",
        "#query = 'Verizon'\n",
        "print(\"Enter the company name to analyze with commas \\n\")\n",
        "query = input()\n",
        "print(\"Enter the number of latest tweets to scrap\")\n",
        "max_tweets = int(input())\n",
        "model_query = {}\n",
        "companies = query.split(\",\")\n",
        "print(companies)\n",
        "for iter in range(len(companies)):\n",
        "  model_text = []\n",
        "  searched_tweets = [status for status in tweepy.Cursor(api.search, q=companies[iter], tweet_mode='extended').items(max_tweets)]\n",
        "  for i in range(len(searched_tweets)):\n",
        "    model_text.append(clean_tweet(searched_tweets[i].full_text))\n",
        "    #print(model_text[i])\n",
        "  model_query[companies[iter]] = model_text\n",
        "\n",
        "  \n",
        "print(model_query)"
      ],
      "execution_count": 9,
      "outputs": [
        {
          "output_type": "stream",
          "text": [
            "Enter the company name to analyze with commas \n",
            "\n",
            "ADANI POWER,CHENNAI PETROLEUM CORPN,COX & KINGS LIMITED,GODREJ PROPERTIES LTD,GUJ STATE ELECTRICITY CORP LTD,HINDALCO INDUSTRIES LTD,JINDAL STEEL AND POWER LTD,JIO DIGITAL FIBRE PVT LTD,KALYAN JEWELLERS INDIA LIMITED,MUMBAI PUNE EXPRESSWAY LIMITED,NAYARA ENERGY LTD FORMERLY ESSAR OIL LTD,P C JEWELLER LTD,RAMAGUNDAM FERTILIZERS AND CHEMICALS LTD,RSPL LIMITED,SUZLON ENERGY LIMITED,TATA MOTORS LTD,TORRENT POWER LIMITED,ULTRATECH CEMENT LIMITED,USHA MARTIN LIMITED,VEDANTA LIMITED\n",
            "Enter the number of latest tweets to scrap\n",
            "30\n",
            "['ADANI POWER', 'CHENNAI PETROLEUM CORPN', 'COX & KINGS LIMITED', 'GODREJ PROPERTIES LTD', 'GUJ STATE ELECTRICITY CORP LTD', 'HINDALCO INDUSTRIES LTD', 'JINDAL STEEL AND POWER LTD', 'JIO DIGITAL FIBRE PVT LTD', 'KALYAN JEWELLERS INDIA LIMITED', 'MUMBAI PUNE EXPRESSWAY LIMITED', 'NAYARA ENERGY LTD FORMERLY ESSAR OIL LTD', 'P C JEWELLER LTD', 'RAMAGUNDAM FERTILIZERS AND CHEMICALS LTD', 'RSPL LIMITED', 'SUZLON ENERGY LIMITED', 'TATA MOTORS LTD', 'TORRENT POWER LIMITED', 'ULTRATECH CEMENT LIMITED', 'USHA MARTIN LIMITED', 'VEDANTA LIMITED']\n",
            "{'ADANI POWER': ['BREAKING Adani just bullied the QLD Gov to fast track approval of their dodgy water plan against scientists advice Adani', 'Grubs did everything in their power to prevent Adani going ahead now this Palashite now has the audacity to claim she d', 'That s the business model The mine doesn t need to make a cent it sells coal to Adani Adani sells power not coal If it had to compete with Hunter mines it would never go anywhere Adani doesn t give a shit about the grade as they will use it themselves Resource security', 'What a day for jobs in Queensland Adani has been approved and the federal government are considering allowing nuclear', 'BREAKING Adani just bullied the QLD Gov to fast track approval of their dodgy water plan against scientists advice Adani', 'BREAKING Adani just bullied the QLD Gov to fast track approval of their dodgy water plan against scientists advice Adani', 'BQMarketsNow Yes Bank rises by more than 6 from day s low Catch all the market updates in our Live Blog', 'Pete ur singing s soso ur predictions worse Unbelievable bullshit when the actual poverty of many in India will lessen due to Adani coal being put to use in power stations in India making them move into the 21st century not 15th century Grow Up ur not at uni anymore', 'BQStocks Zee Entertainment drops over 7 the most in last one month Catch all the market updates in our Live Blo', 'Adani s rushed approvals don t stack up against the science Water experts warn Adani will destroy vital water resources Cl', 'BQStocks Zee Entertainment drops over 7 the most in last one month Catch all the market updates in our Live Blog', 'Shipping it back to India to use in the Adani power stations', 'BREAKING Adani just bullied the QLD Gov to fast track approval of their dodgy water plan against scientists advice Adani', 'While this was the final state level mine site approval for Adani they still don t have approval for the railway or pip', 'Shocking then that climate deniers are in power amp Adani are helping to bring country to its knees', 'May manufactured product prices rise 1 28 Read', 'Wholesale prices ease in May Read', 'Adani s rushed approvals don t stack up against the science Water experts warn Adani will destroy vital water resources Cl', 'Let me agree that there is corrupt government here but majority of states is ruled by so called ganga JAL purified BJP even those states has power cut By ur logic either BJP is corrupt or there is power shortage udupi power plant is owned by Mr Adani for ur info', 'India s energy deficit 250 m without electricity One bulb can be the most important for children s education https', 'While this was the final state level mine site approval for Adani they still don t have approval for the railway or pip', 'these clowns think India will just shut down their power stations without Adani coal the reality is they will use twice as much dirty coal with much higher emissions as Mr Adani has stated this is ideology vs truth and logic', 'While this was the final state level mine site approval for Adani they still don t have approval for the railway or pip', 'BREAKING Adani just bullied the QLD Gov to fast track approval of their dodgy water plan against scientists advice Adani', 'Please answer this as well', 'India s energy deficit 250 m without electricity One bulb can be the most important for children s education https', 'Please answer to India on why generated power from coal mines allotted to Mr Adani will be supplied to Bangladesh As power minister you know how much power shortage India has', 'Live Market Check Sensex Nifty Trade Lower RIL Kotak Mahindra Top Losers BloombergQuint Live Market Check Sensex Nifty Trade Lower RIL Kotak Mahindra Top Losers BloombergQuint Indian equity benchmarks traded lower after a shaky GOOGLE', 'While this was the final state level mine site approval for Adani they still don t have approval for the railway or pip', 'The crazy part is many of those that voted the LNP back into power if asked would probably no'], 'CHENNAI PETROLEUM CORPN': [], 'COX & KINGS LIMITED': ['Insider Sells Cox amp Kings Limited Sneh Sadan Traders amp Agents Limitedsneh Sadan Traders And Agents Ltd has sold 349 681 shares through Market Sale on Jun 7 2019 Future Consumer Limited Manoj Gagvani has sold 30 000 shares through Market Sale from Jun 6 2019 to Jun 11 2019', 'Cox amp Kings Limited Analysts Institutional Investor Meet Con Call Updates', 'Cox amp Kings Financial Service Limited CKFSL 10 20'], 'GODREJ PROPERTIES LTD': ['GODREJPROP The target price for Godrej Properties Ltd of 847 33 is now above that latest price of 843 7'], 'GUJ STATE ELECTRICITY CORP LTD': [], 'HINDALCO INDUSTRIES LTD': ['MENASA Jury Special Mention Award 1st Runner up goes to Hindalco Industries Ltd Belagavi MENASA Sustainabi', 'MENASA We have Hindalco Industries Ltd on stage with Leaders Award Mega Large Business Metals Sector MENASA', 'MENASA Jury Special Mention Award 1st Runner up goes to Hindalco Industries Ltd Belagavi MENASA Sustainabi', 'MENASA We have Hindalco Industries Ltd on stage with Leaders Award Mega Large Business Metals Sector MENASA', 'MENASA We have Hindalco Industries Ltd on stage with Leaders Award Mega Large Business Metals Sector MENASA', 'We have Hindalco Industries Ltd on stage with Leaders Award Mega Large Business Metals Sector MENASA s Sustainability4 0Awards 2019', 'MENASA Jury Special Mention Award 1st Runner up goes to Hindalco Industries Ltd Belagavi MENASA Sustainabi', 'Jury Special Mention Award 1st Runner up goes to Hindalco Industries Ltd Belagavi MENASA Sustainability4 0Awards 2019', 'MENASA CEO Panel with Mahendra Singhi MD and CEO Cement mukundan MD Satish Pai MD Hindalco Indus', 'MENASA CEO Panel with Mahendra Singhi MD and CEO Cement mukundan MD Satish Pai MD Hindalco Indus', 'MENASA CEO Panel with Mahendra Singhi MD and CEO Cement mukundan MD Satish Pai MD Hindalco Indus', 'MENASA CEO Panel with Mahendra Singhi MD and CEO Cement mukundan MD Satish Pai MD Hindalco Indus', 'MENASA CEO Panel with Mahendra Singhi MD and CEO Cement mukundan MD Satish Pai MD Hindalco Indus', 'CEO Panel with Mahendra Singhi MD and CEO Cement mukundan MD Satish Pai MD Hindalco Industries Ltd as their share their thoughts on sustainability initiatives MENASA India Sustainability Leadership Summit 2019', 'Turning dates for following stock For 7 th June 2019 Chola mandalalam investment amp finance Cipla Colgate Dabur DHFL GMR infra Godrej industries LTD GSFC ltd Havells ind LTD Hexawere tech LTD Hindalco Hindustan unnlever Hindustan construction'], 'JINDAL STEEL AND POWER LTD': ['We welcome Our Hon ble Speaker Mr Vijay Kumar Chama President Sales and Marketing Jindal Steel and Power Ltd at Rail', 'We welcome Our Hon ble Speaker Mr Vijay Kumar Chama President Sales and Marketing Jindal Steel and Power Ltd at Rail', 'This reminds me How Big Can do every thing Jindal Steel Power Ltd one 58 A Petition was filed CLB Norther Region Hearing notice came up several years back After that No order or no further notice or Judgment gt Means Not to take any action amounts to C What can we expect from', 'We welcome Our Hon ble Speaker Mr Vijay Kumar Chama President Sales and Marketing Jindal Steel and Power Ltd at Rail', 'what happened in extortion case of Rs 100 Cr by Jindal Steel amp Power Ltd against you', 'We welcome Our Hon ble Speaker Mr Vijay Kumar Chama President Sales and Marketing Jindal Steel and Power Ltd at Rail and Metro Technology Conclave India Join us today for the event For further information contact 919811979598 919811979599', '27 Stockstowatch Arvind Ltd Cadila healthcare IDBI Jindal Steel amp Power MRPL Mangalore Ref amp Pet National Aluminium South India', '27 Stockstowatch Arvind Ltd Cadila healthcare IDBI Jindal Steel amp Power MRPL Mangalore Ref amp Pet National Aluminium South India', 'Stockstowatch Arvind Ltd Cadila healthcare IDBI Jindal Steel amp Power MRPL Mangalore Ref amp Pet National Aluminium South India Bank Tatamotors YesBank StocksToTrade INTRADAY trading', 'It s a huge opportunity for his government amp I am sure they Naveen amp his council of ministers will be able to work even mor', 'How much corruption is taken place in C B L Old one Corruption I mean always Not to take any action amounts 2corruption One 58 A application was filed Company Law Board OldNorthern Region against Jindal Steel Power Ltd Once hearing notice came But no order so far7years passed', 'A STUDY ON MATERIAL MANAGEMENT AT JINDAL STEEL amp POWER LTD'], 'JIO DIGITAL FIBRE PVT LTD': [], 'KALYAN JEWELLERS INDIA LIMITED': [], 'MUMBAI PUNE EXPRESSWAY LIMITED': [], 'NAYARA ENERGY LTD FORMERLY ESSAR OIL LTD': [], 'P C JEWELLER LTD': [], 'RAMAGUNDAM FERTILIZERS AND CHEMICALS LTD': [], 'RSPL LIMITED': [], 'SUZLON ENERGY LIMITED': ['Suzlon Energy Limited Related Party Transactions', 'Suzlon Energy Limited News Verification'], 'TATA MOTORS LTD': ['amp Nirmala Venkateswaran Vice President amp Head HR Howden Insurance Brokers India Pvt Ltd Speaking AGAINST the motion Gaje', 'amp Nirmala Venkateswaran Vice President amp Head HR Howden Insurance Brokers India Pvt Ltd Speaking AGAINST the motion Gajendra Chandel Ex CHRO TATA Motors Binoj Vasu Chief Learning Officer YES Bank amp Satyajit Mohanty CHRO Crompton Greaves Consumer Electricals Ltd', 'Tata Motors Ltd ADR TTM scored 4 48 percent yesterday a worthy gain on volume of 2 3M shares', 'Tata Motors Ltd ADR TTM scored 4 48 percent yesterday a worthy gain on volume of 2 3M shares', 'TATAMOTORS Tata Motors Ltd MOSL TATA MOTORS Neutral JLR s May 19 wholesales in line at 39 9k units Jaguar volumes decline 15 YoY Tata Motors JLR s May 19 wholesales in line at 39 9k units Jaguar volumes decline 15 YoY while Land Rover volumes', 'TTM Tata Motors Ltd SEC Filing Form 6 K', 'Tata Motors Ltd Strong support zone Bullish price action Engr trade Gulecha trader07', 'RESPECTED SIR I WAS COMPAINT ABOUT SAFETY FEATURE OF UR PRODUCT TIAGO XZA MODEL BUT STILL THERE IS NO CONCERN PERSON CALL OR REPLY TO MY MAIL FROM TATA MOTORS LTD IS THERE UNSKILL UNPOFESSIONAL TEAM RECRUTE MY U IN TATA MOTORS LTD', 'TTM Tata Motors Ltd SEC Filing Form 6 K', 'India Please help me to track this vehicle cum driver KA04 AA 5480 to recover my lost mobile 7842316920 Bangalore North RTO KA Owner 1 RAJU S J Vehicle INDICA V2 LX BS III DIESEL Motor Cab LPV RC FC Expiry 08 Jan 2020 Finance TATA MOTORS FINANCE LTD', 'TTM Tata Motors Ltd SEC Filing Form 6 K', 'TTM Tata Motors Ltd SEC Filing Form 6 K', 'TATA MOTORS need for diploma iti engineer Bright Job Consultancy Rudrapur Uttarakhand Job Description Company name Tata Motors Pvt Ltd Contact with us HR Herleen 8295938630 SALARY 28000 35000 P M gt gt For More Jobs Please Go2 Our Page', 'TTM Tata Motors Ltd SEC Filing Form 6 K', 'Electro vehicle is going to be disruptive technology Up government should create SPV Special purpose vehicle with help of BHEL BEL Bharat electronics Ltd and private player like Tata motors Maruti Exide battery', 'Tata Motors amp Indian Oil Corporation Ltd launched an innovative industry first driver welfare initiative Saarthi Aaram', 'Tata Motors amp Indian Oil Corporation Ltd launched an innovative industry first driver welfare initiative Saarthi Aaram'], 'TORRENT POWER LIMITED': ['Complaints very negligence by torrent ppwer limited Since about 4 Month of after work Live wire left behind on t', 'Complaints very negligence by torrent ppwer limited Since about 4 Month of after work Live wire left behind on the road Worry about accident Pls look into issue Address 1 Hazrat Bilal Society Just Behind Shrinandnagar Torrent power office', 'Torrent Power Limited Analysts Institutional Investor Meet Con Call Updates'], 'ULTRATECH CEMENT LIMITED': ['UltraTech Cement Limited Updates'], 'USHA MARTIN LIMITED': ['Urja Global Limited Nandanvan Commercial Pvt Ltd has sold 606 436 shares through Market Sale on Jun 10 2019 Usha Martin Limited Usha Martin Ventures Limited has sold 62 057 shares through Market Sale on Jun 7 2019', 'Usha Martin Limited Shreya Jhawar has bought 410 000 shares through Market Purchase from Jun 6 2019 to Jun 7 2019', 'USHAMART Usha Martin 1 director sold A director at Usha Martin Limited sold 2 380 317 shares at 31 166INR and the significance rating of the trade was 69 100 Is that information sufficient for you to make an investment decision This report gives'], 'VEDANTA LIMITED': ['Vedanta limited blacklisted', 'VEDL Vedanta Limited SEC Filing Form 6 K', 'copper WorldEnvironmentDay celebrations 2000 saplings were planted at Sankaraperi village in Thoothukudi We also thank M', 'copper WorldEnvironmentDay celebrations 2000 saplings were planted at Sankaraperi village in Thoothukudi We also thank M', 'AnilAgarwal Ved AmitShah BJP4Delhi narendramodi corruptionfree NarendraModi IndiaFirst ModiForAll sabkavishwas India', 'copper WorldEnvironmentDay celebrations 2000 saplings were planted at Sankaraperi village in Thoothukudi We also thank M', 'We are pleased to announce a spiritual retreat on a unique dialogue from the Brhadarnyaka Upanishad by Swamini Svatma', 'We are pleased to announce a spiritual retreat on a unique dialogue from the Brhadarnyaka Upanishad by Swamini Svatmavidyananda at Mysuru Limited seats Write to us Vedanta VedantaRetreat', 'COURT SETS DATE FOR VEDANTA JOINDER TO KCM CASE The Lusaka High court has set June 20 to rule on whether or not Vedanta Resources Limited can be joined to the winding up petition of Konkola Cooper Mines', 'copper WorldEnvironmentDay celebrations 2000 saplings were planted at Sankaraperi village in Thoothukudi We also thank M', 'Sterlite', 'copper WorldEnvironmentDay celebrations 2000 saplings were planted at Sankaraperi village in Thoothukudi We also thank M', '2 Vedanta AnilAgarwal Aadhaar', 'copper WorldEnvironmentDay celebrations 2000 saplings were planted at Sankaraperi village in Thoothukudi We also thank M', 'copper WorldEnvironmentDay celebrations 2000 saplings were planted at Sankaraperi village in Thoothukudi We also thank M', 'copper WorldEnvironmentDay celebrations 2000 saplings were planted at Sankaraperi village in Thoothukudi We also thank M', 'Employees of Electrosteel Steels Limited met Mr Navin Agarwal Chairman of Vedanta Limited It was a memorable day filled with enthusiasm and employees displayed great zeal during the interaction', 'copper WorldEnvironmentDay celebrations 2000 saplings were planted at Sankaraperi village in Thoothukudi We also thank M', 'copper WorldEnvironmentDay celebrations 2000 saplings were planted at Sankaraperi village in Thoothukudi We also thank M', 'copper WorldEnvironmentDay celebrations 2000 saplings were planted at Sankaraperi village in Thoothukudi We also thank M', 'copper WorldEnvironmentDay celebrations 2000 saplings were planted at Sankaraperi village in Thoothukudi We also thank M', 'copper WorldEnvironmentDay celebrations 2000 saplings were planted at Sankaraperi village in Thoothukudi We also thank M', 'copper WorldEnvironmentDay celebrations 2000 saplings were planted at Sankaraperi village in Thoothukudi We also thank M', 'copper WorldEnvironmentDay celebrations 2000 saplings were planted at Sankaraperi village in Thoothukudi We also thank M', 'copper WorldEnvironmentDay celebrations 2000 saplings were planted at Sankaraperi village in Thoothukudi We also thank M', 'copper WorldEnvironmentDay celebrations 2000 saplings were planted at Sankaraperi village in Thoothukudi We also thank M', 'copper WorldEnvironmentDay celebrations 2000 saplings were planted at Sankaraperi village in Thoothukudi We also thank M', 'copper WorldEnvironmentDay celebrations 2000 saplings were planted at Sankaraperi village in Thoothukudi We also thank M', 'The 7 Pillars as envisaged by Vedanta Limited Chairman Mr V are a part of the Vedanta way of life from', 'copper WorldEnvironmentDay celebrations 2000 saplings were planted at Sankaraperi village in Thoothukudi We also thank M']}\n"
          ],
          "name": "stdout"
        }
      ]
    },
    {
      "cell_type": "code",
      "metadata": {
        "id": "s5ykkZBgvbFE",
        "colab_type": "code",
        "outputId": "c434f3f8-9d7c-448b-871f-b28b4d43c509",
        "colab": {
          "base_uri": "https://localhost:8080/",
          "height": 2134
        }
      },
      "source": [
        "\n",
        "#Get Tweets Sentiment, if greater than 0 then positive, if 0 it is neutral, if it is less than zero then the tweet is negative\n",
        "def get_sentiment(tweet_str):\n",
        "  analysis = TextBlob(tweet_str)\n",
        "  print(analysis.sentiment)\n",
        "  return analysis.sentiment.polarity\n",
        "\n",
        "model_sentiment = {}\n",
        "company_score = {} #-1 is more likely to default, +1 is in a good health and will not default\n",
        "for key,value in model_query.items():\n",
        "  \n",
        "  score = 0 \n",
        "  \n",
        "  for i in range(len(value)):\n",
        "    model_sentiment[value[i]] = get_sentiment(value[i])\n",
        "    \n",
        "  for key1,value1 in model_sentiment.items():\n",
        "    score += value1\n",
        "    \n",
        "  company_score[key] = score  \n",
        "  \n",
        "print(company_score)\n",
        "  \n",
        "       "
      ],
      "execution_count": 10,
      "outputs": [
        {
          "output_type": "stream",
          "text": [
            "Sentiment(polarity=0.2, subjectivity=0.6)\n",
            "Sentiment(polarity=0.0, subjectivity=0.0)\n",
            "Sentiment(polarity=-0.2, subjectivity=0.8)\n",
            "Sentiment(polarity=0.0, subjectivity=0.0)\n",
            "Sentiment(polarity=0.2, subjectivity=0.6)\n",
            "Sentiment(polarity=0.2, subjectivity=0.6)\n",
            "Sentiment(polarity=0.21212121212121213, subjectivity=0.43333333333333335)\n",
            "Sentiment(polarity=-0.04583333333333334, subjectivity=0.4291666666666667)\n",
            "Sentiment(polarity=0.21212121212121213, subjectivity=0.35555555555555557)\n",
            "Sentiment(polarity=-0.05, subjectivity=0.2)\n",
            "Sentiment(polarity=0.21212121212121213, subjectivity=0.35555555555555557)\n",
            "Sentiment(polarity=0.0, subjectivity=0.0)\n",
            "Sentiment(polarity=0.2, subjectivity=0.6)\n",
            "Sentiment(polarity=0.0, subjectivity=1.0)\n",
            "Sentiment(polarity=-1.0, subjectivity=1.0)\n",
            "Sentiment(polarity=0.0, subjectivity=0.0)\n",
            "Sentiment(polarity=0.0, subjectivity=0.0)\n",
            "Sentiment(polarity=-0.05, subjectivity=0.2)\n",
            "Sentiment(polarity=-0.5, subjectivity=1.0)\n",
            "Sentiment(polarity=0.45, subjectivity=0.75)\n",
            "Sentiment(polarity=0.0, subjectivity=1.0)\n",
            "Sentiment(polarity=-0.1685185185185185, subjectivity=0.5296296296296297)\n",
            "Sentiment(polarity=0.0, subjectivity=1.0)\n",
            "Sentiment(polarity=0.2, subjectivity=0.6)\n",
            "Sentiment(polarity=0.0, subjectivity=0.0)\n",
            "Sentiment(polarity=0.45, subjectivity=0.75)\n",
            "Sentiment(polarity=0.2, subjectivity=0.2)\n",
            "Sentiment(polarity=0.07705627705627707, subjectivity=0.4142857142857143)\n",
            "Sentiment(polarity=0.0, subjectivity=1.0)\n",
            "Sentiment(polarity=-0.033333333333333326, subjectivity=0.4666666666666666)\n",
            "Sentiment(polarity=-0.047619047619047616, subjectivity=0.1369047619047619)\n",
            "Sentiment(polarity=-0.07142857142857142, subjectivity=0.14285714285714285)\n",
            "Sentiment(polarity=-0.03571428571428571, subjectivity=0.07142857142857142)\n",
            "Sentiment(polarity=0.25, subjectivity=0.5)\n",
            "Sentiment(polarity=0.35714285714285715, subjectivity=0.5714285714285714)\n",
            "Sentiment(polarity=0.21428571428571427, subjectivity=0.42857142857142855)\n",
            "Sentiment(polarity=0.35714285714285715, subjectivity=0.5714285714285714)\n",
            "Sentiment(polarity=0.21428571428571427, subjectivity=0.42857142857142855)\n",
            "Sentiment(polarity=0.21428571428571427, subjectivity=0.42857142857142855)\n",
            "Sentiment(polarity=0.21428571428571427, subjectivity=0.42857142857142855)\n",
            "Sentiment(polarity=0.35714285714285715, subjectivity=0.5714285714285714)\n",
            "Sentiment(polarity=0.35714285714285715, subjectivity=0.5714285714285714)\n",
            "Sentiment(polarity=0.0, subjectivity=0.0)\n",
            "Sentiment(polarity=0.0, subjectivity=0.0)\n",
            "Sentiment(polarity=0.0, subjectivity=0.0)\n",
            "Sentiment(polarity=0.0, subjectivity=0.0)\n",
            "Sentiment(polarity=0.0, subjectivity=0.0)\n",
            "Sentiment(polarity=0.0, subjectivity=0.0)\n",
            "Sentiment(polarity=0.0, subjectivity=0.1)\n",
            "Sentiment(polarity=0.8, subjectivity=0.9)\n",
            "Sentiment(polarity=0.8, subjectivity=0.9)\n",
            "Sentiment(polarity=0.02, subjectivity=0.13999999999999999)\n",
            "Sentiment(polarity=0.8, subjectivity=0.9)\n",
            "Sentiment(polarity=0.0, subjectivity=0.0)\n",
            "Sentiment(polarity=0.4, subjectivity=0.7)\n",
            "Sentiment(polarity=0.0, subjectivity=0.0)\n",
            "Sentiment(polarity=0.0, subjectivity=0.0)\n",
            "Sentiment(polarity=0.0, subjectivity=0.0)\n",
            "Sentiment(polarity=0.46666666666666673, subjectivity=0.8046296296296296)\n",
            "Sentiment(polarity=0.021875000000000012, subjectivity=0.296875)\n",
            "Sentiment(polarity=0.0, subjectivity=0.0)\n",
            "Sentiment(polarity=-0.03571428571428571, subjectivity=0.27142857142857146)\n",
            "Sentiment(polarity=-0.07142857142857142, subjectivity=0.14285714285714285)\n",
            "Sentiment(polarity=0.0, subjectivity=0.0)\n",
            "Sentiment(polarity=0.0, subjectivity=0.0)\n",
            "Sentiment(polarity=0.3333333333333333, subjectivity=1.0)\n",
            "Sentiment(polarity=0.3333333333333333, subjectivity=1.0)\n",
            "Sentiment(polarity=0.0, subjectivity=0.0)\n",
            "Sentiment(polarity=-0.1, subjectivity=0.6)\n",
            "Sentiment(polarity=0.26666666666666666, subjectivity=0.41666666666666663)\n",
            "Sentiment(polarity=0.0, subjectivity=0.0)\n",
            "Sentiment(polarity=-0.1, subjectivity=0.6)\n",
            "Sentiment(polarity=0.0, subjectivity=0.0)\n",
            "Sentiment(polarity=-0.1, subjectivity=0.6)\n",
            "Sentiment(polarity=-0.1, subjectivity=0.6)\n",
            "Sentiment(polarity=0.6000000000000001, subjectivity=0.6499999999999999)\n",
            "Sentiment(polarity=-0.1, subjectivity=0.6)\n",
            "Sentiment(polarity=0.17857142857142858, subjectivity=0.4732142857142857)\n",
            "Sentiment(polarity=0.375, subjectivity=0.6666666666666666)\n",
            "Sentiment(polarity=0.375, subjectivity=0.6666666666666666)\n",
            "Sentiment(polarity=-0.027012987012987023, subjectivity=0.32857142857142857)\n",
            "Sentiment(polarity=-0.08917748917748919, subjectivity=0.3904761904761904)\n",
            "Sentiment(polarity=-0.07142857142857142, subjectivity=0.14285714285714285)\n",
            "Sentiment(polarity=-0.07142857142857142, subjectivity=0.14285714285714285)\n",
            "Sentiment(polarity=-0.04285714285714286, subjectivity=0.08571428571428572)\n",
            "Sentiment(polarity=-0.07142857142857142, subjectivity=0.14285714285714285)\n",
            "Sentiment(polarity=-0.07142857142857142, subjectivity=0.14285714285714285)\n",
            "Sentiment(polarity=-0.07142857142857142, subjectivity=0.14285714285714285)\n",
            "Sentiment(polarity=-0.08571428571428572, subjectivity=0.37142857142857144)\n",
            "Sentiment(polarity=0.0, subjectivity=0.0)\n",
            "Sentiment(polarity=0.0, subjectivity=0.0)\n",
            "Sentiment(polarity=0.0, subjectivity=0.0)\n",
            "Sentiment(polarity=0.0, subjectivity=0.0)\n",
            "Sentiment(polarity=0.2916666666666667, subjectivity=0.7111111111111111)\n",
            "Sentiment(polarity=0.20089285714285715, subjectivity=0.569047619047619)\n",
            "Sentiment(polarity=0.04428571428571429, subjectivity=0.3414285714285714)\n",
            "Sentiment(polarity=0.0, subjectivity=0.0)\n",
            "Sentiment(polarity=0.0, subjectivity=0.0)\n",
            "Sentiment(polarity=0.0, subjectivity=0.0)\n",
            "Sentiment(polarity=0.0, subjectivity=0.0)\n",
            "Sentiment(polarity=0.0, subjectivity=0.0)\n",
            "Sentiment(polarity=0.0, subjectivity=0.0)\n",
            "Sentiment(polarity=0.0, subjectivity=0.0)\n",
            "Sentiment(polarity=0.31142857142857144, subjectivity=0.5871428571428571)\n",
            "Sentiment(polarity=0.0, subjectivity=0.0)\n",
            "Sentiment(polarity=0.0, subjectivity=0.0)\n",
            "Sentiment(polarity=0.0, subjectivity=0.0)\n",
            "Sentiment(polarity=0.0, subjectivity=0.0)\n",
            "Sentiment(polarity=0.0, subjectivity=0.0)\n",
            "Sentiment(polarity=0.0, subjectivity=0.0)\n",
            "Sentiment(polarity=0.0, subjectivity=0.0)\n",
            "Sentiment(polarity=0.0, subjectivity=0.0)\n",
            "Sentiment(polarity=0.0, subjectivity=0.0)\n",
            "Sentiment(polarity=0.0, subjectivity=0.0)\n",
            "Sentiment(polarity=0.0, subjectivity=0.0)\n",
            "Sentiment(polarity=-0.07142857142857142, subjectivity=0.14285714285714285)\n",
            "Sentiment(polarity=0.0, subjectivity=0.0)\n",
            "{'ADANI POWER': -0.43426527176527174, 'CHENNAI PETROLEUM CORPN': -0.43426527176527174, 'COX & KINGS LIMITED': -0.5890271765271765, 'GODREJ PROPERTIES LTD': -0.3390271765271765, 'GUJ STATE ELECTRICITY CORP LTD': -0.3390271765271765, 'HINDALCO INDUSTRIES LTD': 0.8038299663299664, 'JINDAL STEEL AND POWER LTD': 2.5123716329966332, 'JIO DIGITAL FIBRE PVT LTD': 2.5123716329966332, 'KALYAN JEWELLERS INDIA LIMITED': 2.5123716329966332, 'MUMBAI PUNE EXPRESSWAY LIMITED': 2.5123716329966332, 'NAYARA ENERGY LTD FORMERLY ESSAR OIL LTD': 2.5123716329966332, 'P C JEWELLER LTD': 2.5123716329966332, 'RAMAGUNDAM FERTILIZERS AND CHEMICALS LTD': 2.5123716329966332, 'RSPL LIMITED': 2.5123716329966332, 'SUZLON ENERGY LIMITED': 2.405228775853776, 'TATA MOTORS LTD': 4.0588002044252045, 'TORRENT POWER LIMITED': 3.871181156806157, 'ULTRATECH CEMENT LIMITED': 3.7997525853775853, 'USHA MARTIN LIMITED': 3.6140382996632994, 'VEDANTA LIMITED': 4.23374068061568}\n"
          ],
          "name": "stdout"
        }
      ]
    },
    {
      "cell_type": "code",
      "metadata": {
        "id": "5MfdB93wSx9z",
        "colab_type": "code",
        "outputId": "3efc1c7f-27c6-4c11-c481-eb626dfa74b0",
        "colab": {
          "base_uri": "https://localhost:8080/",
          "height": 54
        }
      },
      "source": [
        "#print(\"Score for the company {0}\".format(score))\n",
        "for key2,value2 in company_score.items():\n",
        "  avg_score = value2 / max_tweets\n",
        "  company_score[key2] = avg_score\n",
        "print(company_score)\n",
        "\n"
      ],
      "execution_count": 11,
      "outputs": [
        {
          "output_type": "stream",
          "text": [
            "{'ADANI POWER': -0.014475509058842392, 'CHENNAI PETROLEUM CORPN': -0.014475509058842392, 'COX & KINGS LIMITED': -0.01963423921757255, 'GODREJ PROPERTIES LTD': -0.011300905884239217, 'GUJ STATE ELECTRICITY CORP LTD': -0.011300905884239217, 'HINDALCO INDUSTRIES LTD': 0.02679433221099888, 'JINDAL STEEL AND POWER LTD': 0.08374572109988777, 'JIO DIGITAL FIBRE PVT LTD': 0.08374572109988777, 'KALYAN JEWELLERS INDIA LIMITED': 0.08374572109988777, 'MUMBAI PUNE EXPRESSWAY LIMITED': 0.08374572109988777, 'NAYARA ENERGY LTD FORMERLY ESSAR OIL LTD': 0.08374572109988777, 'P C JEWELLER LTD': 0.08374572109988777, 'RAMAGUNDAM FERTILIZERS AND CHEMICALS LTD': 0.08374572109988777, 'RSPL LIMITED': 0.08374572109988777, 'SUZLON ENERGY LIMITED': 0.0801742925284592, 'TATA MOTORS LTD': 0.13529334014750682, 'TORRENT POWER LIMITED': 0.12903937189353856, 'ULTRATECH CEMENT LIMITED': 0.1266584195125862, 'USHA MARTIN LIMITED': 0.12046794332210999, 'VEDANTA LIMITED': 0.141124689353856}\n"
          ],
          "name": "stdout"
        }
      ]
    },
    {
      "cell_type": "code",
      "metadata": {
        "id": "m5x8J3a2kHI4",
        "colab_type": "code",
        "outputId": "c94b835b-2fb8-4d52-c5a0-204bfdb3f3a2",
        "colab": {
          "base_uri": "https://localhost:8080/",
          "height": 107
        }
      },
      "source": [
        "import math\n",
        "print(\"Probability of Default after the next six months !\")\n",
        "defaulters = []\n",
        "for key2,value2 in company_score.items():\n",
        "  frac, whole = math.modf(value2)\n",
        "  perc = frac * 100  \n",
        "  if(perc < 0):\n",
        "    defaulters.append(key2)\n",
        "  company_score[key2] = perc\n",
        "print(company_score)\n",
        "print(\"The companies likely to default based on the publicly available data!\")\n",
        "print(defaulters)"
      ],
      "execution_count": 12,
      "outputs": [
        {
          "output_type": "stream",
          "text": [
            "Probability of Default after the next six months !\n",
            "{'ADANI POWER': -1.4475509058842393, 'CHENNAI PETROLEUM CORPN': -1.4475509058842393, 'COX & KINGS LIMITED': -1.963423921757255, 'GODREJ PROPERTIES LTD': -1.1300905884239216, 'GUJ STATE ELECTRICITY CORP LTD': -1.1300905884239216, 'HINDALCO INDUSTRIES LTD': 2.6794332210998877, 'JINDAL STEEL AND POWER LTD': 8.374572109988778, 'JIO DIGITAL FIBRE PVT LTD': 8.374572109988778, 'KALYAN JEWELLERS INDIA LIMITED': 8.374572109988778, 'MUMBAI PUNE EXPRESSWAY LIMITED': 8.374572109988778, 'NAYARA ENERGY LTD FORMERLY ESSAR OIL LTD': 8.374572109988778, 'P C JEWELLER LTD': 8.374572109988778, 'RAMAGUNDAM FERTILIZERS AND CHEMICALS LTD': 8.374572109988778, 'RSPL LIMITED': 8.374572109988778, 'SUZLON ENERGY LIMITED': 8.01742925284592, 'TATA MOTORS LTD': 13.529334014750683, 'TORRENT POWER LIMITED': 12.903937189353856, 'ULTRATECH CEMENT LIMITED': 12.665841951258619, 'USHA MARTIN LIMITED': 12.046794332210998, 'VEDANTA LIMITED': 14.1124689353856}\n",
            "The companies likely to default based on the publicly available data!\n",
            "['ADANI POWER', 'CHENNAI PETROLEUM CORPN', 'COX & KINGS LIMITED', 'GODREJ PROPERTIES LTD', 'GUJ STATE ELECTRICITY CORP LTD']\n"
          ],
          "name": "stdout"
        }
      ]
    },
    {
      "cell_type": "code",
      "metadata": {
        "id": "kTKhv73e9YDs",
        "colab_type": "code",
        "colab": {}
      },
      "source": [
        ""
      ],
      "execution_count": 0,
      "outputs": []
    }
  ]
}